{
 "cells": [
  {
   "cell_type": "markdown",
   "metadata": {
    "id": "p03hoMY_KC5B"
   },
   "source": [
    "<h1 align=\"center\">An Introduction to Machine Learning - 25737</h1>\n",
    "<h4 align=\"center\">Dr. Sajjad Amini</h4>\n",
    "<h4 align=\"center\">Sharif University of Technology, Spring 2023</h4>\n",
    "\n",
    "**Student Name**: Danial Ayati\n",
    "\n",
    "**Student ID**: 99101246\n",
    "\n",
    "# Linear Regression\n",
    "\n",
    "In this exercise, we want to examine **linear regression**. For this purpose, we have prepared a dataset in the `q1.csv` file. This dataset is used to estimate the **heating load** and **cooling load** of a building based on its parameters. The parameters in this dataset are explained below:\n",
    "\n",
    "- $X_1$: Relative Compactness\n",
    "- $X_2$: Surface Area\n",
    "- $X_3$: Wall Area\n",
    "- $X_4$: Roof Area\n",
    "- $X_5$: Overall Height\n",
    "- $X_6$: Orientation\n",
    "- $X_7$: Glazing Area\n",
    "- $X_8$: Glazing Area Distribution\n",
    "- $Y_1$: Heating Load\n",
    "- $Y_2$: Cooling Load\n",
    "\n",
    "**Note**: For the sake of simplicity, we will only focus on estimating the **heating load** in this problem. Also, please note that we have some inline questions in this notebook, for which you should write your answers in the **Answer** section below each question."
   ]
  },
  {
   "cell_type": "markdown",
   "metadata": {
    "id": "P6_GSec1OXRM"
   },
   "source": [
    "## Importing Libraries\n",
    "\n",
    "First we import libraries that we need for this assignment.\n",
    "\n",
    "**Attention**: You should only use these libraries. Other libraries are not acceptable."
   ]
  },
  {
   "cell_type": "code",
   "execution_count": 2,
   "metadata": {
    "id": "5u7kqX0wONrr"
   },
   "outputs": [],
   "source": [
    "import numpy as np\n",
    "import pandas as pd\n",
    "import matplotlib.pyplot as plt"
   ]
  },
  {
   "cell_type": "markdown",
   "metadata": {
    "id": "9he9c_YvMqAL"
   },
   "source": [
    "## Reading Data and Preprocessing\n",
    "\n",
    "In this section, we want to read data from a CSV file and then preprocess it to make it ready for the rest of the problem.\n",
    "\n",
    "First, we read the data in the cell below and extract an $m \\times n$ matrix, $X$, and an $m \\times 1$ vector, $Y$, from it, which represent our knowledge about the building (`X1`, `X2`, ..., `X8`) and heating load (`Y1`), respectively. Note that by $m$, we mean the number of data points and by $n$, we mean the number of features."
   ]
  },
  {
   "cell_type": "code",
   "execution_count": 3,
   "metadata": {
    "id": "bV10SRSaJ_DJ"
   },
   "outputs": [
    {
     "name": "stdout",
     "output_type": "stream",
     "text": [
      "(768, 8)\n",
      "(768, 1)\n"
     ]
    }
   ],
   "source": [
    "X, Y = None, None\n",
    "data = pd.read_csv('q1.csv')\n",
    "\n",
    "X = data[['X1', 'X2', 'X3', 'X4', 'X5', 'X6', 'X7', 'X8']].values\n",
    "Y = data[['Y1']].values\n",
    "\n",
    "print(X.shape)\n",
    "print(Y.shape)"
   ]
  },
  {
   "cell_type": "markdown",
   "metadata": {
    "id": "EkZeww-2OAuX"
   },
   "source": [
    "Next, we should normalize our data. For normalizing a vector $\\mathbf{x}$, a very common method is to use this formula:\n",
    "\n",
    "$$\n",
    "\\mathbf{x}_{norm} = \\dfrac{\\mathbf{x} - \\overline{\\mathbf{x}}}{\\sigma_\\mathbf{x}}\n",
    "$$\n",
    "\n",
    "Here, $\\overline{x}$ and $\\sigma_\\mathbf{x}$ denote the mean and standard deviation of vector $\\mathbf{x}$, respectively. Use this formula and store the new $X$ and $Y$ vectors in the cell below.\n",
    "\n",
    "**Question**: Briefly explain why we need to normalize our data before starting the training.\n",
    "\n",
    "**Answer**:"
   ]
  },
  {
   "cell_type": "code",
   "execution_count": 5,
   "metadata": {
    "id": "Y2i0bjxUPak2"
   },
   "outputs": [],
   "source": [
    "x_bar = np.mean(X,axis=0)\n",
    "sigma = np.std(X,axis=0)\n",
    "X_norm = (X - x_bar)/sigma"
   ]
  },
  {
   "cell_type": "markdown",
   "metadata": {
    "id": "mvmHQ-mxQzDE"
   },
   "source": [
    "Finally, we should add a column of $1$s at the beginning of $X$ to represent the bias term. Do this in the next cell. Note that after this process, $X$ should be an $m \\times (n+1)$ matrix."
   ]
  },
  {
   "cell_type": "code",
   "execution_count": 6,
   "metadata": {
    "id": "QLfV7VQNRCfF"
   },
   "outputs": [
    {
     "name": "stdout",
     "output_type": "stream",
     "text": [
      "(768, 9)\n"
     ]
    }
   ],
   "source": [
    "X = np.concatenate((np.ones(shape=Y.shape),X_norm),axis=1)\n",
    "\n",
    "print(X.shape)"
   ]
  },
  {
   "cell_type": "markdown",
   "metadata": {
    "id": "nO--dppbRsdb"
   },
   "source": [
    "## Training Model Using Direct Method\n",
    "\n",
    "We know that the loss function in linear regression is defined as:\n",
    "\n",
    "$$\n",
    "\\mathcal{L}(\\mathbf{w}) = \\frac{1}{m}\\sum_{i=1}^{m}(\\mathbf{w}^\\top\\mathbf{x}_i-y_i)^2\n",
    "$$\n",
    "\n",
    "Here, $w$ is the weight vector and $(x_i, y_i)$ represents the $i$th data point. First, write a function that takes $X$, $Y$, and $w$ as inputs and returns the loss value in the next cell. Note that your implementation should be fully vectorized, meaning that you are not allowed to use any loops in your function and should only use functions prepared in the numpy library."
   ]
  },
  {
   "cell_type": "code",
   "execution_count": 10,
   "metadata": {
    "id": "bSbXtyXCRzD3"
   },
   "outputs": [],
   "source": [
    "def loss(X, Y, w):\n",
    "    m, n = X.shape\n",
    "    loss = None\n",
    "    cal_var = np.matmul(X,w) - Y\n",
    "    loss = 1/m * np.matmul(cal_var.T,cal_var)\n",
    "    return loss"
   ]
  },
  {
   "cell_type": "markdown",
   "metadata": {
    "id": "VuhSB9zaTfwm"
   },
   "source": [
    "Now, we want to calculate the weight matrix, $w$, using the direct method. By direct method, we mean finding the answer to the optimization problem below directly using linear algebra, without using iterative methods:\n",
    "\n",
    "$$\n",
    "\\min_{w} \\mathcal{L}(w)\n",
    "$$\n",
    "\n",
    "Question: What is the answer to this problem in terms of $X$ and $Y$?\n",
    "\n",
    "Answer: $\\hat{w}_{mle} = (X^T X)^{-1}X^T Y$\n",
    "\n",
    "Now you should implement a function that receives $X$ and $Y$ as input and returns $w$. Note that your implementation should also be fully vectorized."
   ]
  },
  {
   "cell_type": "code",
   "execution_count": 11,
   "metadata": {
    "id": "-gCUK01DT-cW"
   },
   "outputs": [],
   "source": [
    "def direct_method(X, Y):\n",
    "    w = None\n",
    "    mat = np.linalg.inv(np.matmul(X.T,X))\n",
    "    w = np.matmul(np.matmul(mat,X.T),Y)  \n",
    "    return w"
   ]
  },
  {
   "cell_type": "markdown",
   "metadata": {
    "id": "thFIeOaSUvlw"
   },
   "source": [
    "Finally, we want to evaluate our loss for this problem. Run the cell below to calculate the loss of your model."
   ]
  },
  {
   "cell_type": "code",
   "execution_count": 12,
   "metadata": {
    "id": "6gGDh11VU8vF"
   },
   "outputs": [
    {
     "name": "stdout",
     "output_type": "stream",
     "text": [
      "loss for this problem using direct method is [[8.52285291]]\n"
     ]
    }
   ],
   "source": [
    "w = direct_method(X, Y) # calculating w using direct method\n",
    "print(f\"loss for this problem using direct method is {loss(X, Y, w)}\")"
   ]
  },
  {
   "cell_type": "markdown",
   "metadata": {
    "id": "QaG14YG9VXiS"
   },
   "source": [
    "## Training Model Using Gradient Descent\n",
    "\n",
    "Now, instead of using the direct method to calculate $w$, we want to use the **Gradient Descent** algorithm. We know that in this algorithm, in each iteration, we should update our weight vector with:\n",
    "\n",
    "$$\n",
    "\\mathbf{w}^{(t+1)} = \\mathbf{w}^{(t)} - \\alpha \\nabla \\mathcal{L}(\\mathbf{w}^{(t)})\n",
    "$$\n",
    "\n",
    "Here, $w^{t}$ represents the weight matrix in the $t$th iteration, and $\\alpha$ represents the learning rate.\n",
    "\n",
    "**Question**: Write an expression for $\\nabla\\mathcal{L}(\\mathbf{w})$.\n",
    "\n",
    "**Answer**: $\\frac{2}{m}X^T(X\\mathbf{w}-Y)$\n",
    "\n",
    "Now, write a function that computes the gradient of $\\mathcal{L}(\\mathbf{w})$. This function should receive $X$, $Y$, and $\\mathbf{w}$ as inputs and return an $(n+1) \\times 1$ vector, which represents $\\nabla\\mathcal{L}(\\mathbf{w})$. Note that your implementation should also be **fully vectorized**."
   ]
  },
  {
   "cell_type": "code",
   "execution_count": 14,
   "metadata": {
    "id": "yqVQ-8I-VeVc"
   },
   "outputs": [],
   "source": [
    "def gradient(X, Y, w):\n",
    "    m, n = X.shape\n",
    "    grad = None\n",
    "    grad = 2*np.matmul(X.T,np.matmul(X,w)-Y)/m\n",
    "    return grad"
   ]
  },
  {
   "cell_type": "markdown",
   "metadata": {
    "id": "TJP5KaZzXz5K"
   },
   "source": [
    "Now, we are ready to implement the Gradient Descent algorithm. Complete the function below for this purpose. Note that this function receives $X$, $Y$, the learning rate, and the number of iterations as inputs. This function should return two parameters. The first parameter is $\\mathbf{w}$, and the second parameter is a `numpy` array that contains the loss in each iteration. This array is indicated by `loss_history` in the code. Also note that you should initialize $\\mathbf{w}$ with the `randn` function."
   ]
  },
  {
   "cell_type": "code",
   "execution_count": 15,
   "metadata": {
    "id": "qdfNjz5DYgD7"
   },
   "outputs": [],
   "source": [
    "def gradient_descent(X, Y, alpha, num_iter):\n",
    "    m, n = X.shape\n",
    "    w = np.random.randn(n, 1)\n",
    "    loss_history = np.zeros(num_iter)\n",
    "\n",
    "    for i in range(num_iter):\n",
    "        loss_history[i] = np.mean((X.dot(w) - Y) ** 2)\n",
    "        gradient = 2 / m * X.T.dot(X.dot(w) - Y)\n",
    "        w -= alpha * gradient\n",
    "\n",
    "    return w, loss_history"
   ]
  },
  {
   "cell_type": "markdown",
   "metadata": {
    "id": "CjGioRweZK9O"
   },
   "source": [
    "Now, run the `gradient_descent` function for 5 different values of the learning rate. Plot the `loss_history` of these 5 different values in the same figure.\n",
    "\n",
    "**Question**: Discuss the effect of the learning rate and find the best value of this parameter.\n",
    "\n",
    "**Answer**: The learning rate is a crucial hyperparameter in the gradient descent algorithm, as it determines the step size taken during each iteration. Choosing an appropriate learning rate is essential to ensure convergence and efficient learning.\n",
    "\n",
    "By analyzing the plots of the loss history for different learning rates, we can make observations about their convergence behavior. Among the tested learning rates, 0.22 stands out as the most optimal choice. It achieves a good balance between convergence speed and performance.\n",
    "\n",
    "Learning rates of 0.1, 0.14, 0.18, and 0.26 also exhibit acceptable convergence, although they require more iterations to reach convergence compared to 0.22. These learning rates still contribute to effective learning in this context.\n",
    "\n",
    "However, it is important to note that higher learning rates, such as 0.3, lead to divergence of the algorithm and prevent convergence. This highlights the need for caution when selecting learning rates, as excessively high values can hinder learning.\n",
    "\n",
    "Based on these observations, a learning rate of approximately 0.22 emerges as the optimal choice for this problem, providing a good trade-off between convergence speed and performance."
   ]
  },
  {
   "cell_type": "code",
   "execution_count": 16,
   "metadata": {
    "id": "yMuwbOokZtcL"
   },
   "outputs": [
    {
     "data": {
      "image/png": "[encoded data removed]",
      "text/plain": [
       "<Figure size 720x576 with 2 Axes>"
      ]
     },
     "metadata": {
      "needs_background": "light"
     },
     "output_type": "display_data"
    }
   ],
   "source": [
    "num_iter = 50\n",
    "alpha = np.linspace(0.1, 0.26, num=5, endpoint=True)\n",
    "\n",
    "fig, (ax1, ax2) = plt.subplots(2, 1, figsize=(10, 8))\n",
    "\n",
    "loss_history = np.zeros((num_iter, 6))\n",
    "w = np.zeros((X.shape[1], 6, 1))\n",
    "\n",
    "for i in range(5):\n",
    "    w[:, i], loss_history[:, i] = gradient_descent(X, Y, alpha[i], num_iter)\n",
    "    ax1.plot(np.arange(1, num_iter + 1), loss_history[:, i])\n",
    "\n",
    "ax1.set_title('Loss')\n",
    "ax1.legend([r'$\\alpha=0.1$', r'$\\alpha=0.14$', r'$\\alpha=0.18$', r'$\\alpha=0.22$', r'$\\alpha=0.26$'],\n",
    "           bbox_to_anchor=(1, 1.3), ncol=1)\n",
    "\n",
    "w[:, 5], loss_history[:, 5] = gradient_descent(X, Y, 0.3, num_iter)\n",
    "ax2.plot(np.arange(1, num_iter + 1), loss_history[:, 5])\n",
    "\n",
    "ax2.set_title('Loss')\n",
    "ax2.legend([r'$\\alpha=0.35$'], bbox_to_anchor=(1, 1.3), ncol=1)\n",
    "\n",
    "plt.tight_layout()\n",
    "plt.show()"
   ]
  },
  {
   "cell_type": "markdown",
   "metadata": {
    "id": "k-lyJhZqZ18d"
   },
   "source": [
    "## Conclusion\n",
    "\n",
    "Compare the answer of two different methods that we used earlier.\n",
    "\n",
    "**Question**: Discuss these two methods and compare them with each other. When is it better to use the direct method, and when is it better to use Gradient Descent?\n",
    "\n",
    "**Answer**: \"The direct method and gradient descent are two commonly used approaches for solving linear regression problems.\n",
    "\n",
    "The direct method, which involves solving the normal equation by inverting the matrix $X^TX$, provides an exact solution for the weight matrix. It is computationally efficient when dealing with small to medium-sized datasets and when the matrix $X^TX$ is invertible. However, it may become numerically unstable and computationally expensive for high-dimensional datasets.\n",
    "\n",
    "On the other hand, gradient descent is an iterative optimization algorithm that does not require matrix inversion. It can handle high-dimensional datasets more effectively and is generally more scalable. However, it requires careful tuning of the learning rate and the number of iterations to ensure convergence to the minimum of the loss function. The computational cost of gradient descent may be higher than the direct method, especially for large datasets.\n",
    "\n",
    "In summary, the choice between the direct method and gradient descent depends on the characteristics of the dataset. For small to medium-sized datasets with invertible $X^TX$ matrices, the direct method provides an efficient and exact solution. For large or high-dimensional datasets, where computational efficiency and scalability are important, gradient descent is a more suitable approach.\"\n",
    "\n",
    "Please note that this is a revised version of your answer. Feel free to make any adjustments or additions based on your specific requirements and guidelines"
   ]
  },
  {
   "cell_type": "markdown",
   "metadata": {
    "id": "MF15dsmXaUzJ"
   },
   "source": [
    "## (Additional Part) Stochastic Gradient Descent\n",
    "\n",
    "When the number of data points becomes large, calculating the gradient becomes very complicated. In these circumstances, we use **Stochastic Gradient Descent**. In this algorithm, instead of using all of the data points to calculate the gradient, we use only a small number of them. We choose these small number of points randomly in each iteration. Implement this algorithm, and use it to calculate $w$, and then compare the result with the preceding parts."
   ]
  },
  {
   "cell_type": "code",
   "execution_count": 17,
   "metadata": {
    "id": "6cHTQFgOaQBB"
   },
   "outputs": [],
   "source": [
    "def stochastic_gradient_descent(X, Y, k, alpha, num_iter):\n",
    "\n",
    "    m, n = X.shape\n",
    "    w, loss_history = None, None \n",
    "    m, n = X.shape\n",
    "    w = np.random.randn(n, 1)\n",
    "    loss_history = np.zeros(num_iter)\n",
    "\n",
    "    for i in range(num_iter):\n",
    "\n",
    "        idx = np.random.randint(m, size=k)\n",
    "        X_batch = X[idx, :]\n",
    "        Y_batch = Y[idx, :]\n",
    "        loss_batch = loss(X_batch, Y_batch, w)\n",
    "        grad = gradient(X_batch, Y_batch, w)\n",
    "        w = w - alpha * grad\n",
    "        loss_history[i] = loss_batch\n",
    "\n",
    "    return w, loss_history"
   ]
  },
  {
   "cell_type": "code",
   "execution_count": 19,
   "metadata": {},
   "outputs": [
    {
     "data": {
      "image/png": "[encoded data removed]",
      "text/plain": [
       "<Figure size 432x288 with 1 Axes>"
      ]
     },
     "metadata": {
      "needs_background": "light"
     },
     "output_type": "display_data"
    }
   ],
   "source": [
    "num_iter = 20\n",
    "alpha = np.linspace(0.1, 0.26, num=5, endpoint=True)\n",
    "k = 100\n",
    "\n",
    "fig, ax = plt.subplots()\n",
    "\n",
    "loss_history = np.zeros((num_iter, 5))\n",
    "w = np.zeros((X.shape[1], 5, 1))\n",
    "\n",
    "for i in range(5):\n",
    "    w[:, i], loss_history[:, i] = stochastic_gradient_descent(X, Y, k, alpha[i], num_iter)\n",
    "    ax.plot(np.arange(1, num_iter + 1), loss_history[:, i])\n",
    "\n",
    "ax.set_title('Loss')\n",
    "ax.legend([r'$\\alpha=0.1$', r'$\\alpha=0.14$' ,r'$\\alpha=0.18$', r'$\\alpha=0.22$', r'$\\alpha=0.26$'], bbox_to_anchor=(1,1.3), ncol=1);\n"
   ]
  }
 ],
 "metadata": {
  "colab": {
   "provenance": []
  },
  "kernelspec": {
   "display_name": "Python 3",
   "language": "python",
   "name": "python3"
  },
  "language_info": {
   "codemirror_mode": {
    "name": "ipython",
    "version": 3
   },
   "file_extension": ".py",
   "mimetype": "text/x-python",
   "name": "python",
   "nbconvert_exporter": "python",
   "pygments_lexer": "ipython3",
   "version": "3.8.8"
  }
 },
 "nbformat": 4,
 "nbformat_minor": 1
}
