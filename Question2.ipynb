{
 "cells": [
  {
   "cell_type": "markdown",
   "metadata": {
    "id": "un_07izr0mCO"
   },
   "source": [
    "<h1 align=\"center\">An Introduction to Machine Learning - 25737</h1>\n",
    "<h4 align=\"center\">Dr. Sajjad Amini</h4>\n",
    "<h4 align=\"center\">Sharif University of Technology, Spring 2023</h4>\n",
    "\n",
    "**Student Name**: Danial Ayati\n",
    "\n",
    "**Student ID**: 99101246\n",
    "\n",
    "# Effect of Overfitting\n",
    "\n",
    "In this exercise, we want to examine the effect of **overfitting**. As you learned in class, using too many features in training can result in a model with very low loss on the training set but high loss on the validation and test set. For this purpose, we have prepared a dataset in the `q2-train.npy`, `q2-valid.npy`, and `q2-test.npy` files for you. We know that `y` is a polynomial function of `x` in this dataset, meaning that \n",
    "\n",
    "$$\n",
    "y = \\sum_{i=0}^{k}a_ix^i\n",
    "$$\n",
    "\n",
    "However, we do not know the exact value of `k`."
   ]
  },
  {
   "cell_type": "markdown",
   "metadata": {
    "id": "rcSNUeqT158e"
   },
   "source": [
    "## Importing Libraries\n",
    "\n",
    "First, we import the necessary libraries for this assignment. Please note that you should only use these libraries and no other libraries are acceptable."
   ]
  },
  {
   "cell_type": "code",
   "execution_count": 33,
   "metadata": {
    "id": "UitW8b0J0jBa"
   },
   "outputs": [],
   "source": [
    "import numpy as np\n",
    "import matplotlib.pyplot as plt"
   ]
  },
  {
   "cell_type": "markdown",
   "metadata": {
    "id": "Q1x7BaU22F4k"
   },
   "source": [
    "## Reading Data and Preprocessing\n",
    "\n",
    "In this part of the assignment, you should read data from the `.npy` files. The data in `q2-train.npy` file is your training set and should be stored in the `X_train` and `Y_train` variables. Similarly, the data in `q2-valid.npy` file is your validation set, and the data in `q2-test.npy` file is your test set, which should be stored in `X_val`, `Y_val`, `X_test`, and `Y_test` respectively. You can use the `np.load` function to read the `.npy` files."
   ]
  },
  {
   "cell_type": "code",
   "execution_count": 34,
   "metadata": {
    "id": "dDMeq10G2m0U"
   },
   "outputs": [],
   "source": [
    "X_train, Y_train, X_val, Y_val, X_test, Y_test = None, None, None, None, None, None\n",
    "\n",
    "X_train = np.load('/Users/danial/Desktop/Term 6/IML - Dr. Amini/HWs/CHWs/IML-CHW2/q2-train.npy')[:,0].reshape(-1, 1)\n",
    "Y_train = np.load('/Users/danial/Desktop/Term 6/IML - Dr. Amini/HWs/CHWs/IML-CHW2/q2-train.npy')[:,1].reshape(-1, 1)\n",
    "\n",
    "X_test = np.load('/Users/danial/Desktop/Term 6/IML - Dr. Amini/HWs/CHWs/IML-CHW2/q2-test.npy')[:,0].reshape(-1, 1)\n",
    "Y_test = np.load('/Users/danial/Desktop/Term 6/IML - Dr. Amini/HWs/CHWs/IML-CHW2/q2-test.npy')[:,1].reshape(-1, 1)\n",
    "\n",
    "X_val = np.load('/Users/danial/Desktop/Term 6/IML - Dr. Amini/HWs/CHWs/IML-CHW2/q2-valid.npy')[:,0].reshape(-1, 1)\n",
    "Y_val = np.load('/Users/danial/Desktop/Term 6/IML - Dr. Amini/HWs/CHWs/IML-CHW2/q2-valid.npy')[:,1].reshape(-1, 1)"
   ]
  },
  {
   "cell_type": "markdown",
   "metadata": {
    "id": "nyXpEfEa3Gw-"
   },
   "source": [
    "To find the best value of `k`, we want to change `k` from 1 to 12 and examine its effect on the validation set, and then choose the right value of `k`. For this purpose, we need to create a matrix with columns equal to $x^0$, $x^1$, $x^2$, ..., $x^k$ for every value of `k`. You can complete the following function to do this job. The function takes an $m \\times 1$ vector `X` containing values of input `x` and returns an $m \\times (k+1)$ matrix that has the properties mentioned above."
   ]
  },
  {
   "cell_type": "code",
   "execution_count": 58,
   "metadata": {
    "id": "DXw2tPO84Ksp"
   },
   "outputs": [],
   "source": [
    "def create_matrix(X, k):\n",
    "    \n",
    "    new_X = None\n",
    "\n",
    "    new_X = [np.power(X, i) for i in range(0, k+1)]\n",
    "    new_X = np.array(new_X).T\n",
    "    new_X = new_X.reshape(-1, k+1)\n",
    "    \n",
    "    return new_X"
   ]
  },
  {
   "cell_type": "markdown",
   "metadata": {
    "id": "WCTuye7C5Aq3"
   },
   "source": [
    "## Validate Model\n",
    "\n",
    "Now, we want to train our model for every value of `k`. You can use any of the methods that we used in **Question 1** (gradient descent or direct calculation) for this purpose. The following function trains our model on the training set for a given value of `k`, and then returns the loss on the training set and validation set, as well as the weight vector `w`."
   ]
  },
  {
   "cell_type": "code",
   "execution_count": 59,
   "metadata": {
    "id": "9lfWITgf7yQH"
   },
   "outputs": [],
   "source": [
    "# If you need any other function for training write it here\n",
    "# (like gradient descent or anything else)"
   ]
  },
  {
   "cell_type": "code",
   "execution_count": 60,
   "metadata": {},
   "outputs": [],
   "source": [
    "def loss(X, Y, w):\n",
    "    m, n = X.shape\n",
    "    loss = np.sum(np.square(X @ w - Y)) / m\n",
    "    return loss.item()"
   ]
  },
  {
   "cell_type": "code",
   "execution_count": 61,
   "metadata": {},
   "outputs": [],
   "source": [
    "def direct_method(X, Y):\n",
    "    w = np.linalg.inv(X.T @ X) @ X.T @ Y\n",
    "    return w"
   ]
  },
  {
   "cell_type": "code",
   "execution_count": 62,
   "metadata": {
    "id": "JaIs631q508z"
   },
   "outputs": [],
   "source": [
    "def train(X_train, Y_train, X_val, Y_val, k):\n",
    "    \n",
    "    X_train_matrix = create_matrix(X_train, k)\n",
    "    X_val_matrix = create_matrix(X_val, k)\n",
    "    \n",
    "    w = direct_method(X_train_matrix, Y_train)\n",
    "    \n",
    "    loss_train = loss(X_train_matrix, Y_train, w)\n",
    "    loss_val = loss(X_val_matrix, Y_val, w)\n",
    "    \n",
    "    return w, loss_train, loss_val"
   ]
  },
  {
   "cell_type": "markdown",
   "metadata": {
    "id": "eAsZfxCu6YEf"
   },
   "source": [
    "In the cell below, you can change the value of `k` between 1 and 12 and plot the loss on the training and validation set as a function of `k` in the same plot.\n",
    "\n",
    "**Question**: Discuss about the effect of $k$.\n",
    "\n",
    "**Answer**: The impact of the polynomial degree, represented by the variable k, on the model's performance can be evaluated by analyzing the loss on both the training and validation sets.\n",
    "\n",
    "For small values of k (e.g., k=1), the model is too simplistic to capture the underlying relationship between the input variable (x) and the output variable (y). Consequently, the model exhibits high loss on both the training and validation sets, indicating underfitting. Underfitting occurs when the model lacks the complexity to capture the patterns and variations in the data.\n",
    "\n",
    "As k increases, the model's complexity grows, allowing it to better fit the training data. The loss on the training set gradually decreases as the model becomes more expressive. However, if k becomes excessively large, the model may overfit the training data. Overfitting happens when the model becomes too sensitive to the noise and idiosyncrasies of the training set, leading to poor performance on unseen data. In this case, the training loss will continue to decrease while the validation loss starts to rise.\n",
    "\n",
    "By plotting the loss on the training and validation sets against different values of k, we can observe a U-shaped curve. Initially, both losses decrease as k increases, reflecting the model's improved capability to fit the training data. However, after reaching a certain point, the validation loss begins to increase while the training loss keeps decreasing. The optimal value of k corresponds to the minimum point of the validation loss. It signifies the best trade-off between model complexity and generalization, achieving the optimal balance between underfitting and overfitting.\n",
    "\n",
    "Therefore, by analyzing the plot of the loss on the training and validation sets as a function of k, we can determine the optimal value of k that minimizes the validation loss, indicating the most suitable model complexity for the given data."
   ]
  },
  {
   "cell_type": "code",
   "execution_count": 65,
   "metadata": {
    "id": "knUTXtOv66Wx"
   },
   "outputs": [
    {
     "data": {
      "image/png": "[encoded data removed]",
      "text/plain": [
       "<Figure size 432x288 with 1 Axes>"
      ]
     },
     "metadata": {
      "needs_background": "light"
     },
     "output_type": "display_data"
    }
   ],
   "source": [
    "k_values = range(1, 13)\n",
    "loss_train_list = []\n",
    "loss_val_list = []\n",
    "\n",
    "for k in k_values:\n",
    "    w, loss_train, loss_val = train(X_train, Y_train, X_val, Y_val, k)\n",
    "    loss_train_list.append(loss_train)\n",
    "    loss_val_list.append(loss_val)\n",
    "\n",
    "plt.plot(k_values, loss_train_list, label='Training Loss')\n",
    "plt.plot(k_values, loss_val_list, label='Validation Loss')\n",
    "plt.xlabel('k')\n",
    "plt.ylabel('Loss')\n",
    "plt.title('Loss vs. Polynomial Degree')\n",
    "plt.legend()\n",
    "plt.show()\n"
   ]
  },
  {
   "cell_type": "markdown",
   "metadata": {
    "id": "K0M1d2Ez7JLJ"
   },
   "source": [
    "## Evaluating Model\n",
    "\n",
    "In the cell below find the loss of your best model on the test set.\n",
    "\n",
    "**Question**: Why we need test set?\n",
    "\n",
    "**Answer**:"
   ]
  },
  {
   "cell_type": "code",
   "execution_count": 66,
   "metadata": {
    "id": "Ex1P5H0A7emE"
   },
   "outputs": [
    {
     "name": "stdout",
     "output_type": "stream",
     "text": [
      "Test Loss: 0.11791424797290265\n"
     ]
    }
   ],
   "source": [
    "k_best = 8\n",
    "w, train_loss, val_loss = train(X_train, Y_train, X_val, Y_val, k_best)\n",
    "\n",
    "X_test_new = create_matrix(X_test, k_best)\n",
    "\n",
    "test_loss = loss(X_test_new, Y_test, w)\n",
    "\n",
    "print(\"Test Loss:\", test_loss)\n"
   ]
  },
  {
   "cell_type": "code",
   "execution_count": null,
   "metadata": {},
   "outputs": [],
   "source": []
  }
 ],
 "metadata": {
  "colab": {
   "provenance": []
  },
  "kernelspec": {
   "display_name": "Python 3",
   "language": "python",
   "name": "python3"
  },
  "language_info": {
   "codemirror_mode": {
    "name": "ipython",
    "version": 3
   },
   "file_extension": ".py",
   "mimetype": "text/x-python",
   "name": "python",
   "nbconvert_exporter": "python",
   "pygments_lexer": "ipython3",
   "version": "3.8.8"
  }
 },
 "nbformat": 4,
 "nbformat_minor": 1
}
